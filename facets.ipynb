{
 "cells": [
  {
   "cell_type": "code",
   "execution_count": null,
   "metadata": {},
   "outputs": [],
   "source": [
    "%run -i setup.py"
   ]
  },
  {
   "cell_type": "markdown",
   "metadata": {},
   "source": [
    "\n",
    "## Facet Test\n",
    "\n",
    "Now we move up from our scatterplot by adding a category divide. We're using a variable that is already defined in the data, although in a later test we'll create a variable to use for category also.\n",
    "\n",
    "### Matplotlib\n",
    "\n",
    "Requires the two categories to be separate series."
   ]
  },
  {
   "cell_type": "code",
   "execution_count": null,
   "metadata": {},
   "outputs": [],
   "source": [
    "d0 = dataset[dataset['explicit'] == 0]\n",
    "d1 = dataset[dataset['explicit'] == 1]\n",
    "\n",
    "f, (ax1, ax2) = plt.subplots(2, sharex=True, figsize=(12, 7))\n",
    "ax1.scatter(x=d0.acousticness, y=d0.loudness, alpha=0.75, s=2)\n",
    "ax1.set_title('Explicit vs Non-Explicit')\n",
    "ax1.set_ylabel('Non-Explicit \\n Loudness')\n",
    "\n",
    "ax2.scatter(x=d1.acousticness, y=d1.loudness, alpha=0.75, s=2)\n",
    "ax2.set_xlabel('Acousticness')\n",
    "ax2.set_ylabel('Explicit \\n Loudness')\n"
   ]
  },
  {
   "cell_type": "markdown",
   "metadata": {},
   "source": [
    "### Seaborn\n"
   ]
  },
  {
   "cell_type": "code",
   "execution_count": null,
   "metadata": {},
   "outputs": [],
   "source": [
    "with sns.axes_style(\"whitegrid\"):\n",
    "    g = sns.FacetGrid(dataset, row=\"explicit\", aspect = 3, sharex=True, height=3.5)\n",
    "    g.map(sns.scatterplot, \"acousticness\", 'loudness', alpha = .75, s = 6)\n",
    "    g.set_ylabels('Loudness')\n",
    "    g.set_xlabels('Acousticness')\n",
    "    g"
   ]
  },
  {
   "cell_type": "markdown",
   "metadata": {},
   "source": [
    "### Bokeh\n",
    "\n",
    "No line breaks in axis labels. Must split data into two series."
   ]
  },
  {
   "cell_type": "code",
   "execution_count": null,
   "metadata": {},
   "outputs": [],
   "source": [
    "from bokeh.layouts import column\n",
    "\n",
    "output_notebook()\n",
    "\n",
    "d0 = dataset[dataset['explicit'] == 0]\n",
    "d1 = dataset[dataset['explicit'] == 1]\n",
    "\n",
    "p0 = figure(title=\"Explicit vs Non-Explicit\", \n",
    "           y_axis_label='Non-Explicit Loudness', \n",
    "           x_axis_label='Acousticness', \n",
    "           width=750, \n",
    "           height = 250)\n",
    "\n",
    "p0.scatter(x=d0.acousticness, y=d0.loudness, marker='circle',\n",
    "            line_color=\"#97b5e6\", fill_color=\"#2b4570\", fill_alpha=0.75, size=5)\n",
    "\n",
    "p1 = figure(title=\"\", \n",
    "           y_axis_label='Explicit Loudness', \n",
    "           x_axis_label='Acousticness', \n",
    "           width=750, \n",
    "           height = 250)\n",
    "\n",
    "p1.scatter(x=d1.acousticness, y=d1.loudness, marker='circle',\n",
    "            line_color=\"#97b5e6\", fill_color=\"#2b4570\", fill_alpha=0.75, size=5)\n",
    "\n",
    "show(column(p0, p1))\n"
   ]
  },
  {
   "cell_type": "markdown",
   "metadata": {},
   "source": [
    "### Altair\n"
   ]
  },
  {
   "cell_type": "code",
   "execution_count": null,
   "metadata": {},
   "outputs": [],
   "source": [
    "source = dataset.sample(axis = 0, n=4000)\n",
    "\n",
    "viz = alt.Chart(source).properties(width=700, height=200)\n",
    "viz = viz.mark_circle(size = 6)\n",
    "viz = viz.encode(alt.X(\"acousticness\"),y='loudness')\n",
    "viz = viz.facet(facet='explicit:O',columns=1)\n",
    "viz = viz.properties(title='Explicit vs Non-Explicit')\n",
    "viz"
   ]
  },
  {
   "cell_type": "markdown",
   "metadata": {},
   "source": [
    "### Plotnine\n"
   ]
  },
  {
   "cell_type": "code",
   "execution_count": null,
   "metadata": {},
   "outputs": [],
   "source": [
    "pno.dpi = (150)\n",
    "pno.figure_size = (6,3)\n",
    "ggplot(data=dataset, mapping=aes(x='acousticness', y='loudness')) + \\\n",
    "    facet_wrap('explicit', ncol = 1, labeller='label_both') + \\\n",
    "    theme_bw(base_size=6) + \\\n",
    "    geom_point(size = .5, fill = '#2b4570', alpha = .75, color = \"#97b5e6\") + \\\n",
    "    labs(title = \"Acousticness x Loudness Scatterplot\")"
   ]
  },
  {
   "cell_type": "markdown",
   "metadata": {},
   "source": [
    "### Plotly\n",
    "\n",
    "We're starting to see the real cracks in Plotly Express at this stage."
   ]
  },
  {
   "cell_type": "code",
   "execution_count": null,
   "metadata": {},
   "outputs": [],
   "source": [
    "\n",
    "fig = px.scatter(dataset, \n",
    "                 x=\"acousticness\", \n",
    "                 y='loudness', \n",
    "                 title=\"Acousticness x Loudness Scatterplot\", \n",
    "                 template='plotly_white',\n",
    "                 facet_row=\"explicit\")\n",
    "fig.update_layout(\n",
    "    width=700,height=400,\n",
    "    margin=dict(l=15,r=25,b=15,t=40,pad=1))\n",
    "fig.show()"
   ]
  },
  {
   "cell_type": "markdown",
   "metadata": {},
   "source": [
    "## Facet Plot Results\n",
    "\n",
    "Unscientific rankings by me, 1 = best, 6 = worst. Ease of use now includes consistency in the grammar making it easier to move from histogram to scatterplot also.\n",
    "\n",
    "\n",
    "|            |features     |beauty    |ease of use   |\n",
    "|------------|-------------|----------|--------|\n",
    "|matplotlib  |            |         |   5   |\n",
    "|seaborn     |            |         |   4   |\n",
    "|bokeh       |            |         |   6   |\n",
    "|altair      |            |         |   3   |\n",
    "|plotnine    |            |         |   2   |\n",
    "|plotly      |            |         |   1   |\n",
    "\n"
   ]
  },
  {
   "cell_type": "code",
   "execution_count": null,
   "metadata": {},
   "outputs": [],
   "source": []
  }
 ],
 "metadata": {
  "kernelspec": {
   "display_name": "Python (pyviz)",
   "language": "python",
   "name": "pyviz"
  },
  "language_info": {
   "codemirror_mode": {
    "name": "ipython",
    "version": 3
   },
   "file_extension": ".py",
   "mimetype": "text/x-python",
   "name": "python",
   "nbconvert_exporter": "python",
   "pygments_lexer": "ipython3",
   "version": "3.8.6"
  }
 },
 "nbformat": 4,
 "nbformat_minor": 2
}
