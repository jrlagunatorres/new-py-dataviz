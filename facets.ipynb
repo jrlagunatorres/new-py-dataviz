{
 "metadata": {
  "language_info": {
   "codemirror_mode": {
    "name": "ipython",
    "version": 3
   },
   "file_extension": ".py",
   "mimetype": "text/x-python",
   "name": "python",
   "nbconvert_exporter": "python",
   "pygments_lexer": "ipython3",
   "version": "3.8.6-final"
  },
  "orig_nbformat": 2,
  "kernelspec": {
   "name": "pyviz",
   "display_name": "Python (pyviz)",
   "language": "python"
  }
 },
 "nbformat": 4,
 "nbformat_minor": 2,
 "cells": [
  {
   "cell_type": "code",
   "execution_count": null,
   "metadata": {},
   "outputs": [],
   "source": [
    "import matplotlib.pyplot as plt\n",
    "import seaborn as sns\n",
    "\n",
    "import bokeh as bk\n",
    "from bokeh.io import show, output_notebook\n",
    "from bokeh.plotting import figure\n",
    "\n",
    "from plotnine import *\n",
    "import plotnine.options as pno\n",
    "\n",
    "import altair as alt\n",
    "\n",
    "import plotly.express as px\n",
    "import plotly.graph_objects as go\n",
    "\n",
    "import pandas as pd\n",
    "import numpy as np"
   ]
  },
  {
   "cell_type": "code",
   "execution_count": null,
   "metadata": {},
   "outputs": [],
   "source": [
    "dataset = pd.read_csv(\"data.csv\")\n",
    "dataset.head()"
   ]
  },
  {
   "source": [
    "\n",
    "## Facet Test\n",
    "\n",
    "Bivariate, numeric data with categorical.\n",
    "\n",
    "\n",
    "### Matplotlib\n",
    "Highly abbreviated arguments, makes it hard to intuit the grammar."
   ],
   "cell_type": "markdown",
   "metadata": {}
  },
  {
   "cell_type": "code",
   "execution_count": null,
   "metadata": {},
   "outputs": [],
   "source": [
    "d0 = dataset[dataset['explicit'] == 0]\n",
    "d1 = dataset[dataset['explicit'] == 1]\n",
    "\n",
    "f, (ax1, ax2) = plt.subplots(2, sharex=True)\n",
    "ax1.scatter(x=d0.acousticness, y=d0.loudness, alpha=0.75, s=2)\n",
    "ax1.set_title('Explicit vs Non-Explicit')\n",
    "ax1.set_ylabel('Non-Explicit \\n Loudness')\n",
    "\n",
    "ax2.scatter(x=d1.acousticness, y=d1.loudness, alpha=0.75, s=2)\n",
    "ax2.set_xlabel('Acousticness')\n",
    "ax2.set_ylabel('Explicit \\n Loudness')\n",
    "\n",
    "f.show()"
   ]
  },
  {
   "source": [
    "### Seaborn\n"
   ],
   "cell_type": "markdown",
   "metadata": {}
  },
  {
   "cell_type": "code",
   "execution_count": null,
   "metadata": {},
   "outputs": [],
   "source": [
    "with sns.axes_style(\"whitegrid\"):\n",
    "    g = sns.FacetGrid(dataset, row=\"explicit\", aspect = 2, sharex=True)\n",
    "    g.map(sns.scatterplot, \"acousticness\", 'loudness', alpha = .75, s = 6)\n",
    "    g.set_ylabels('Loudness')\n",
    "    g.set_xlabels('Acousticness')\n",
    "    g"
   ]
  },
  {
   "source": [
    "### Bokeh\n",
    "\n",
    "No line breaks in axis labels."
   ],
   "cell_type": "markdown",
   "metadata": {}
  },
  {
   "cell_type": "code",
   "execution_count": null,
   "metadata": {},
   "outputs": [],
   "source": [
    "from bokeh.layouts import column\n",
    "\n",
    "output_notebook()\n",
    "\n",
    "d0 = dataset[dataset['explicit'] == 0]\n",
    "d1 = dataset[dataset['explicit'] == 1]\n",
    "\n",
    "p0 = figure(title=\"Explicit vs Non-Explicit\", \n",
    "           y_axis_label='Non-Explicit \\n Loudness', \n",
    "           x_axis_label='Acousticness', \n",
    "           width=500, \n",
    "           height = 300)\n",
    "\n",
    "p0.scatter(x=d0.acousticness, y=d0.loudness, marker='circle',\n",
    "            line_color=\"#6666ee\", fill_color=\"#ee6666\", fill_alpha=0.75, size=5)\n",
    "\n",
    "p1 = figure(title=\"\", \n",
    "           y_axis_label='Explicit \\n Loudness', \n",
    "           x_axis_label='Acousticness', \n",
    "           width=500, \n",
    "           height = 300)\n",
    "\n",
    "p1.scatter(x=d1.acousticness, y=d1.loudness, marker='circle',\n",
    "            line_color=\"#6666ee\", fill_color=\"#ee6666\", fill_alpha=0.75, size=5)\n",
    "\n",
    "show(column(p0, p1))\n"
   ]
  },
  {
   "source": [
    "### Altair\n"
   ],
   "cell_type": "markdown",
   "metadata": {}
  },
  {
   "cell_type": "code",
   "execution_count": null,
   "metadata": {},
   "outputs": [],
   "source": [
    "source = dataset.sample(axis = 0, n=4000)\n",
    "\n",
    "viz = alt.Chart(source).properties(width=600)\n",
    "viz = viz.mark_circle(size = 6)\n",
    "viz = viz.encode(alt.X(\"acousticness\"),y='loudness')\n",
    "viz = viz.facet(facet='explicit:N',columns=1)\n",
    "viz = viz.properties(title='Explicit vs Non-Explicit')\n",
    "viz"
   ]
  },
  {
   "source": [
    "### Plotnine\n"
   ],
   "cell_type": "markdown",
   "metadata": {}
  },
  {
   "cell_type": "code",
   "execution_count": null,
   "metadata": {},
   "outputs": [],
   "source": [
    "pno.dpi = (100)\n",
    "pno.figure_size = (6,4)\n",
    "ggplot(data=dataset, mapping=aes(x='acousticness', y='loudness')) + \\\n",
    "    facet_wrap('explicit', ncol = 1, labeller='label_both') + \\\n",
    "    theme_bw() + \\\n",
    "    geom_point(size = .5, fill = 'darkblue', alpha = .75, color = \"gray\") + \\\n",
    "    labs(title = \"Acousticness x Loudness Scatterplot\")"
   ]
  },
  {
   "source": [
    "### Plotly\n",
    "\n",
    "Setting element visual traits requires passing vectors the same length as data, column names, etc. Can't just pass a constant."
   ],
   "cell_type": "markdown",
   "metadata": {}
  },
  {
   "cell_type": "code",
   "execution_count": null,
   "metadata": {},
   "outputs": [],
   "source": [
    "\n",
    "fig = px.scatter(dataset, \n",
    "                 x=\"acousticness\", \n",
    "                 y='loudness', \n",
    "                 title=\"Acousticness x Loudness Scatterplot\", \n",
    "                 template='plotly_white',\n",
    "                 facet_row=\"explicit\")\n",
    "fig.update_layout(\n",
    "    width=700,height=600,\n",
    "    margin=dict(l=15,r=25,b=15,t=40,pad=1))\n",
    "fig.show()"
   ]
  },
  {
   "source": [
    "## Facet Plot Results\n",
    "\n",
    "Unscientific rankings by me, 1 = best, 6 = worst. Ease of use now includes consistency in the grammar making it easier to move from histogram to scatterplot also.\n",
    "\n",
    "\n",
    "|            |features     |beauty    |ease of use   |\n",
    "|------------|-------------|----------|--------|\n",
    "|matplotlib  |            |         |   5   |\n",
    "|seaborn     |            |         |   4   |\n",
    "|bokeh       |            |         |   6   |\n",
    "|altair      |            |         |   3   |\n",
    "|plotnine    |            |         |   2   |\n",
    "|plotly      |            |         |   1   |\n",
    "\n"
   ],
   "cell_type": "markdown",
   "metadata": {}
  },
  {
   "cell_type": "code",
   "execution_count": null,
   "metadata": {},
   "outputs": [],
   "source": []
  }
 ]
}