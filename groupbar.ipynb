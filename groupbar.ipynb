{
 "cells": [
  {
   "cell_type": "code",
   "execution_count": null,
   "metadata": {
    "slideshow": {
     "slide_type": "skip"
    }
   },
   "outputs": [],
   "source": [
    "%run -i setup.py"
   ]
  },
  {
   "cell_type": "markdown",
   "metadata": {
    "slideshow": {
     "slide_type": "slide"
    }
   },
   "source": [
    "# Grouped Bar Test\n",
    "\n",
    "We're taking two groups and summarizing a single numeric feature for each."
   ]
  },
  {
   "cell_type": "code",
   "execution_count": null,
   "metadata": {
    "slideshow": {
     "slide_type": "skip"
    }
   },
   "outputs": [],
   "source": [
    "beymask = dataset['artists'].str.contains('Beyoncé')\n",
    "dataset.loc[beymask, 'group'] = 'Beyonce'\n",
    "bey = dataset[beymask]\n",
    "\n",
    "beatmask = dataset['artists'].str.contains('Beatles')\n",
    "dataset.loc[beatmask, 'group'] = 'The Beatles'\n",
    "beat = dataset[beatmask]\n",
    "\n",
    "sample = bey.append(beat)"
   ]
  },
  {
   "cell_type": "code",
   "execution_count": null,
   "metadata": {
    "slideshow": {
     "slide_type": "subslide"
    }
   },
   "outputs": [],
   "source": [
    "grouped_sample = sample.groupby('group', as_index=False).agg({\"acousticness\": \"mean\",\n",
    " \"danceability\": [min, max, 'mean', 'std'],\n",
    "  \"duration_ms\": [min, max, 'mean', 'std'],\n",
    "   \"energy\": [min, max, 'mean', 'std'],\n",
    "    \"explicit\": [min, max, 'mean', 'std'],\n",
    "    \"instrumentalness\": [min, max, 'mean', 'std'],\n",
    "    \"loudness\": [min, max, 'mean', 'std'],\n",
    "    \"popularity\": [min, max, 'mean', 'std'],\n",
    "    \"tempo\": [min, max, 'mean', 'std'],\n",
    "    \"valence\": [min, max, 'mean', 'std']})\n",
    "\n",
    "grouped_sample.columns = [' '.join(col).strip() for col in grouped_sample.columns.values]\n",
    "\n",
    "grouped_sample.head()\n"
   ]
  },
  {
   "cell_type": "markdown",
   "metadata": {
    "slideshow": {
     "slide_type": "slide"
    }
   },
   "source": [
    "### Matplotlib\n",
    "To label the bars you literally have to write a whole function."
   ]
  },
  {
   "cell_type": "code",
   "execution_count": null,
   "metadata": {
    "slideshow": {
     "slide_type": "fragment"
    }
   },
   "outputs": [],
   "source": [
    "fig, ax = plt.subplots(figsize=(10, 6))\n",
    "\n",
    "x = np.arange(len(grouped_sample.group.unique()))\n",
    "bar_width = 0.4\n",
    "b1 = ax.bar(0, grouped_sample.loc[grouped_sample['group'] == 'Beyonce', 'danceability mean'],\n",
    "            width=bar_width)\n",
    "b2 = ax.bar(0 + bar_width, grouped_sample.loc[grouped_sample['group'] == 'The Beatles', 'danceability mean'],\n",
    "            width=bar_width)\n",
    "\n",
    "ax.set_xticks([0,bar_width])\n",
    "ax.set_xticklabels(grouped_sample.group.unique())\n",
    "\n",
    "ax.set_xlabel('Artist', labelpad=15)\n",
    "ax.set_ylabel('Danceability', labelpad=15)\n",
    "ax.set_title('Danceability, Beyonce vs Beatles', pad=15)\n",
    "\n"
   ]
  },
  {
   "cell_type": "markdown",
   "metadata": {
    "slideshow": {
     "slide_type": "slide"
    }
   },
   "source": [
    "### Seaborn\n",
    "\n",
    "Defaults to showing mean. Title syntax doesn't work as expected."
   ]
  },
  {
   "cell_type": "code",
   "execution_count": null,
   "metadata": {
    "slideshow": {
     "slide_type": "subslide"
    }
   },
   "outputs": [],
   "source": [
    "with sns.axes_style(\"whitegrid\"):\n",
    "    g = sns.catplot(\n",
    "        dodge=False,\n",
    "        data=sample, \n",
    "        kind=\"bar\",\n",
    "        x=\"group\", \n",
    "        y=\"danceability\", \n",
    "        hue=\"group\",\n",
    "        ci=None, \n",
    "        height=5, aspect=2\n",
    "    )\n",
    "    #g.set_title(\"Danceability, Beyonce vs Beatles\")\n",
    "    g.set_axis_labels(\"Artist\", \"Danceability\")\n",
    "    g"
   ]
  },
  {
   "cell_type": "markdown",
   "metadata": {
    "slideshow": {
     "slide_type": "slide"
    }
   },
   "source": [
    "### Bokeh"
   ]
  },
  {
   "cell_type": "code",
   "execution_count": null,
   "metadata": {
    "slideshow": {
     "slide_type": "fragment"
    }
   },
   "outputs": [],
   "source": [
    "output_notebook()\n",
    "\n",
    "p = figure(title=\"Danceability, Beyonce vs Beatles\", \n",
    "           y_axis_label='Danceability', \n",
    "           x_axis_label='Artist', \n",
    "           width=650, \n",
    "           height=350,\n",
    "           x_range=grouped_sample.group.unique())\n",
    "\n",
    "p.vbar(x=grouped_sample.group.unique(), \n",
    "        top=grouped_sample['danceability mean'], \n",
    "        color = ['#456eb5', '#f59842'], \n",
    "        width=0.9)\n",
    "\n",
    "p.xgrid.grid_line_color = None\n",
    "\n",
    "show(p)"
   ]
  },
  {
   "cell_type": "markdown",
   "metadata": {
    "slideshow": {
     "slide_type": "slide"
    }
   },
   "source": [
    "### Altair\n"
   ]
  },
  {
   "cell_type": "code",
   "execution_count": null,
   "metadata": {
    "slideshow": {
     "slide_type": "fragment"
    }
   },
   "outputs": [],
   "source": [
    "source = sample\n",
    "\n",
    "viz = alt.Chart(source)\n",
    "viz = viz.mark_bar()\n",
    "viz = viz.encode(\n",
    "    x='group:O',\n",
    "    y='mean(danceability):Q',\n",
    "    color='group:N'\n",
    ")\n",
    "viz = viz.properties(title='Danceability, Beyonce vs Beatles').properties(width=600, height=300)\n",
    "\n",
    "viz"
   ]
  },
  {
   "cell_type": "markdown",
   "metadata": {
    "slideshow": {
     "slide_type": "slide"
    }
   },
   "source": [
    "### Plotnine\n",
    "\n",
    "A common problem in ggplot- changing the color scheme is a pain, and you have to delve into the scale fill manual addition."
   ]
  },
  {
   "cell_type": "code",
   "execution_count": null,
   "metadata": {
    "slideshow": {
     "slide_type": "fragment"
    }
   },
   "outputs": [],
   "source": [
    "pno.dpi = (150)\n",
    "pno.figure_size = (6,3)\n",
    "\n",
    "ggplot(data=grouped_sample, \\\n",
    "       mapping=aes(x='group', y='danceability mean', \\\n",
    "                   group='group', fill = 'group')) + \\\n",
    "    theme_bw(base_size=6) + \\\n",
    "    geom_col(stat = 'identity') + \\\n",
    "    scale_fill_manual(values=['#456eb5', '#f59842']) + \\\n",
    "    labs(title = \"Danceability, Beyonce vs Beatles\", x=\"Artist\", y=\"Danceability\")"
   ]
  },
  {
   "cell_type": "markdown",
   "metadata": {
    "slideshow": {
     "slide_type": "slide"
    }
   },
   "source": [
    "### Plotly\n",
    "\n",
    "Setting element visual traits requires passing vectors the same length as data, column names, etc. Can't just pass a constant."
   ]
  },
  {
   "cell_type": "code",
   "execution_count": null,
   "metadata": {
    "slideshow": {
     "slide_type": "fragment"
    }
   },
   "outputs": [],
   "source": [
    "grouped_sample['color'] = ['#456eb5', '#f59842']\n",
    "groups=grouped_sample.group.unique()\n",
    "\n",
    "fig = go.Figure(data=[\n",
    "    go.Bar(x=groups, \\\n",
    "           y=grouped_sample['danceability mean'].round(3), \\\n",
    "           marker_color = grouped_sample['color'])])\n",
    "\n",
    "fig.update_layout(barmode='group',\n",
    "    title=\"Danceability, Beyonce vs Beatles\", \n",
    "    template='plotly_white',\n",
    "    width=700,height=350,\n",
    "    margin=dict(l=15,r=25,b=15,t=40,pad=1))\n",
    "fig.show()\n"
   ]
  },
  {
   "cell_type": "markdown",
   "metadata": {
    "slideshow": {
     "slide_type": "slide"
    }
   },
   "source": [
    "## Grouped Bar Results\n",
    "\n",
    "Unscientific rankings by me, 1 = best, 6 = worst. \n",
    "In this situation, only Altair seems to be able to group and summarize for us without a lot of fuss. It demands very little work from the user to make it happen.\n",
    "\n",
    "\n",
    "|            |features     |beauty    |ease of use   |\n",
    "|------------|-------------|----------|--------|\n",
    "|matplotlib  |    4        |    6     |   6   |\n",
    "|seaborn     |    5        |    4     |   5   |\n",
    "|bokeh       |    2        |    1     |   3   |\n",
    "|altair      |    1        |    2     |   1   |\n",
    "|plotnine    |    3        |    5     |   2   |\n",
    "|plotly      |    6        |    3     |   4   |\n",
    "\n"
   ]
  },
  {
   "cell_type": "code",
   "execution_count": null,
   "metadata": {},
   "outputs": [],
   "source": []
  }
 ],
 "metadata": {
  "celltoolbar": "Slideshow",
  "kernelspec": {
   "display_name": "Python (pyviz)",
   "language": "python",
   "name": "pyviz"
  },
  "language_info": {
   "codemirror_mode": {
    "name": "ipython",
    "version": 3
   },
   "file_extension": ".py",
   "mimetype": "text/x-python",
   "name": "python",
   "nbconvert_exporter": "python",
   "pygments_lexer": "ipython3",
   "version": "3.8.6"
  }
 },
 "nbformat": 4,
 "nbformat_minor": 2
}
