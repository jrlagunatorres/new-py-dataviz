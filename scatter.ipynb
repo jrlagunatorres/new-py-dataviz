{
 "metadata": {
  "language_info": {
   "codemirror_mode": {
    "name": "ipython",
    "version": 3
   },
   "file_extension": ".py",
   "mimetype": "text/x-python",
   "name": "python",
   "nbconvert_exporter": "python",
   "pygments_lexer": "ipython3",
   "version": "3.8.6-final"
  },
  "orig_nbformat": 2,
  "kernelspec": {
   "name": "pyviz",
   "display_name": "Python (pyviz)",
   "language": "python"
  }
 },
 "nbformat": 4,
 "nbformat_minor": 2,
 "cells": [
  {
   "cell_type": "code",
   "execution_count": null,
   "metadata": {},
   "outputs": [],
   "source": [
    "import matplotlib.pyplot as plt\n",
    "import seaborn as sns\n",
    "\n",
    "import bokeh as bk\n",
    "from bokeh.io import show, output_notebook\n",
    "from bokeh.plotting import figure\n",
    "\n",
    "from plotnine import *\n",
    "import plotnine.options as pno\n",
    "\n",
    "import altair as alt\n",
    "\n",
    "import plotly.express as px\n",
    "import plotly.graph_objects as go\n",
    "\n",
    "import pandas as pd\n",
    "import numpy as np"
   ]
  },
  {
   "cell_type": "code",
   "execution_count": null,
   "metadata": {},
   "outputs": [],
   "source": [
    "dataset = pd.read_csv(\"data.csv\")\n"
   ]
  },
  {
   "source": [
    "\n",
    "## Scatterplot Test\n",
    "\n",
    "Bivariate, numeric data.\n",
    "\n",
    "\n",
    "### Matplotlib\n",
    "Highly abbreviated arguments, makes it hard to intuit the grammar."
   ],
   "cell_type": "markdown",
   "metadata": {}
  },
  {
   "cell_type": "code",
   "execution_count": null,
   "metadata": {},
   "outputs": [],
   "source": [
    "plt.scatter(x=dataset.acousticness, y=dataset.loudness, alpha=0.75, s=2)\n",
    "plt.title('Acousticness x Loudness Scatterplot')\n",
    "plt.xlabel('Acousticness')\n",
    "plt.ylabel('Loudness')\n",
    "plt.show()"
   ]
  },
  {
   "source": [
    "### Seaborn\n"
   ],
   "cell_type": "markdown",
   "metadata": {}
  },
  {
   "cell_type": "code",
   "execution_count": null,
   "metadata": {},
   "outputs": [],
   "source": [
    "with sns.axes_style(\"whitegrid\"):\n",
    "    viz = sns.scatterplot(data=dataset, x=\"acousticness\", y='loudness', alpha = .75, s = 6)\n",
    "    viz.set_title(\"Acousticness x Loudness Scatterplot\")\n",
    "    viz"
   ]
  },
  {
   "source": [
    "### Bokeh"
   ],
   "cell_type": "markdown",
   "metadata": {}
  },
  {
   "cell_type": "code",
   "execution_count": null,
   "metadata": {},
   "outputs": [],
   "source": [
    "output_notebook()\n",
    "\n",
    "p = figure(title=\"Acousticness x Loudness Scatterplot\", \n",
    "           y_axis_label='Loudness', \n",
    "           x_axis_label='Acousticness', \n",
    "           width=500, \n",
    "           height = 300)\n",
    "\n",
    "p.scatter(x=dataset.acousticness, y=dataset.loudness, marker='circle',\n",
    "            line_color=\"#6666ee\", fill_color=\"#ee6666\", fill_alpha=0.75, size=5)\n",
    "\n",
    "show(p)"
   ]
  },
  {
   "source": [
    "### Altair\n"
   ],
   "cell_type": "markdown",
   "metadata": {}
  },
  {
   "cell_type": "code",
   "execution_count": null,
   "metadata": {},
   "outputs": [],
   "source": [
    "source = dataset.sample(axis = 0, n=4000)\n",
    "\n",
    "viz = alt.Chart(source)\n",
    "viz = viz.mark_circle(size = 6)\n",
    "viz = viz.encode(alt.X(\"acousticness\"),y='loudness')\n",
    "viz = viz.properties(title='Acousticness x Loudness Scatterplot')\n",
    "\n",
    "viz"
   ]
  },
  {
   "source": [
    "### Plotnine\n"
   ],
   "cell_type": "markdown",
   "metadata": {}
  },
  {
   "cell_type": "code",
   "execution_count": null,
   "metadata": {},
   "outputs": [],
   "source": [
    "pno.dpi = (100)\n",
    "pno.figure_size = (6,4)\n",
    "ggplot(data=dataset, mapping=aes(x='acousticness', y='loudness')) + \\\n",
    "    theme_bw() + \\\n",
    "    geom_point(size = .5, fill = 'darkblue', alpha = .75, color = \"gray\") + \\\n",
    "    labs(title = \"Acousticness x Loudness Scatterplot\")"
   ]
  },
  {
   "source": [
    "### Plotly\n",
    "\n",
    "Setting element visual traits requires passing vectors the same length as data, column names, etc. Can't just pass a constant."
   ],
   "cell_type": "markdown",
   "metadata": {}
  },
  {
   "cell_type": "code",
   "execution_count": null,
   "metadata": {},
   "outputs": [],
   "source": [
    "\n",
    "fig = px.scatter(dataset, \n",
    "                 x=\"acousticness\", \n",
    "                 y='loudness', \n",
    "                 title=\"Acousticness x Loudness Scatterplot\", \n",
    "                 template='plotly_white')\n",
    "fig.update_layout(\n",
    "    width=700,height=400,\n",
    "    margin=dict(l=15,r=25,b=15,t=40,pad=1))\n",
    "fig.show()"
   ]
  },
  {
   "source": [
    "## Scatterplot Results\n",
    "\n",
    "Unscientific rankings by me, 1 = best, 6 = worst. Ease of use now includes consistency in the grammar making it easier to move from histogram to scatterplot also.\n",
    "\n",
    "\n",
    "|            |features     |beauty    |ease of use   |\n",
    "|------------|-------------|----------|--------|\n",
    "|matplotlib  |    6        |    3     |   6   |\n",
    "|seaborn     |    4        |    5     |   4   |\n",
    "|bokeh       |    1        |    1     |   1   |\n",
    "|altair      |    3        |    2     |   3   |\n",
    "|plotnine    |    2        |    4     |   2   |\n",
    "|plotly      |    5        |    6     |   5   |\n",
    "\n"
   ],
   "cell_type": "markdown",
   "metadata": {}
  },
  {
   "cell_type": "code",
   "execution_count": null,
   "metadata": {},
   "outputs": [],
   "source": []
  }
 ]
}