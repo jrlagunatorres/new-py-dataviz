{
 "cells": [
  {
   "cell_type": "code",
   "execution_count": null,
   "metadata": {
    "slideshow": {
     "slide_type": "skip"
    }
   },
   "outputs": [],
   "source": [
    "%run -i setup.py"
   ]
  },
  {
   "cell_type": "markdown",
   "metadata": {
    "slideshow": {
     "slide_type": "slide"
    }
   },
   "source": [
    "\n",
    "## Scatterplot Test\n",
    "\n",
    "Now we will add a second numeric series, but still not make any other major adjustments.\n",
    "\n",
    "\n",
    "### Matplotlib\n",
    "Highly abbreviated arguments, makes it hard to intuit the grammar. When using subplots, API is not consistent with plain singular plots. Almost all layout work beyond the minimal requires subplots."
   ]
  },
  {
   "cell_type": "code",
   "execution_count": null,
   "metadata": {
    "slideshow": {
     "slide_type": "fragment"
    }
   },
   "outputs": [],
   "source": [
    "fig, ax = plt.subplots(figsize=(12, 6))\n",
    "\n",
    "ax.scatter(x=dataset.acousticness, y=dataset.loudness, alpha=0.75, s=2)\n",
    "ax.set_title('Acousticness x Loudness Scatterplot')\n",
    "ax.set_xlabel('Acousticness')\n",
    "ax.set_ylabel('Loudness')\n",
    "plt.show()"
   ]
  },
  {
   "cell_type": "markdown",
   "metadata": {
    "slideshow": {
     "slide_type": "slide"
    }
   },
   "source": [
    "### Seaborn\n"
   ]
  },
  {
   "cell_type": "code",
   "execution_count": null,
   "metadata": {
    "slideshow": {
     "slide_type": "fragment"
    }
   },
   "outputs": [],
   "source": [
    "fig, ax = plt.subplots(figsize=(12, 6))\n",
    "\n",
    "with sns.axes_style(\"whitegrid\"):\n",
    "    viz = sns.scatterplot(data=dataset, x=\"acousticness\", y='loudness', alpha = .75, s = 6, ax=ax)\n",
    "    viz.set_title(\"Acousticness x Loudness Scatterplot\")\n",
    "    viz.set_xlabel('Acousticness')\n",
    "    viz.set_ylabel('Loudness')\n",
    "    viz"
   ]
  },
  {
   "cell_type": "markdown",
   "metadata": {
    "slideshow": {
     "slide_type": "slide"
    }
   },
   "source": [
    "### Bokeh"
   ]
  },
  {
   "cell_type": "code",
   "execution_count": null,
   "metadata": {
    "slideshow": {
     "slide_type": "fragment"
    }
   },
   "outputs": [],
   "source": [
    "output_notebook()\n",
    "\n",
    "p = figure(title=\"Acousticness x Loudness Scatterplot\", \n",
    "           y_axis_label='Loudness', \n",
    "           x_axis_label='Acousticness', \n",
    "           width=750, \n",
    "           height = 400)\n",
    "\n",
    "p.scatter(x=dataset.acousticness, y=dataset.loudness, marker='circle',\n",
    "            line_color=\"#97b5e6\", fill_color=\"#2b4570\", fill_alpha=0.75, size=5)\n",
    "\n",
    "show(p)"
   ]
  },
  {
   "cell_type": "markdown",
   "metadata": {
    "slideshow": {
     "slide_type": "slide"
    }
   },
   "source": [
    "### Altair\n"
   ]
  },
  {
   "cell_type": "code",
   "execution_count": null,
   "metadata": {
    "slideshow": {
     "slide_type": "fragment"
    }
   },
   "outputs": [],
   "source": [
    "source = dataset.sample(axis = 0, n=4000)\n",
    "\n",
    "viz = alt.Chart(source)\n",
    "viz = viz.mark_circle(size = 6)\n",
    "viz = viz.encode(alt.X(\"acousticness\"),y='loudness')\n",
    "viz = viz.properties(title='Acousticness x Loudness Scatterplot').properties(width=700, height=300)\n",
    "\n",
    "viz"
   ]
  },
  {
   "cell_type": "markdown",
   "metadata": {
    "slideshow": {
     "slide_type": "slide"
    }
   },
   "source": [
    "### Plotnine\n"
   ]
  },
  {
   "cell_type": "code",
   "execution_count": null,
   "metadata": {
    "slideshow": {
     "slide_type": "fragment"
    }
   },
   "outputs": [],
   "source": [
    "pno.dpi = (150)\n",
    "pno.figure_size = (6,3)\n",
    "ggplot(data=dataset, mapping=aes(x='acousticness', y='loudness')) + \\\n",
    "    theme_bw(base_size=6) + \\\n",
    "    geom_point(size = .5, fill = '#2b4570', alpha = .75, color = \"#97b5e6\") + \\\n",
    "    labs(title = \"Acousticness x Loudness Scatterplot\", x=\"Acousticness\", y=\"Loudness\")"
   ]
  },
  {
   "cell_type": "markdown",
   "metadata": {
    "slideshow": {
     "slide_type": "slide"
    }
   },
   "source": [
    "### Plotly\n",
    "\n",
    "In Plotly Express, setting element visual traits requires passing vectors the same length as data, column names, etc. Can't just pass a constant."
   ]
  },
  {
   "cell_type": "code",
   "execution_count": null,
   "metadata": {
    "slideshow": {
     "slide_type": "fragment"
    }
   },
   "outputs": [],
   "source": [
    "\n",
    "fig = px.scatter(dataset, \n",
    "                 x=\"acousticness\", \n",
    "                 y='loudness', \n",
    "                 title=\"Acousticness x Loudness Scatterplot\", \n",
    "                 template='plotly_white')\n",
    "fig.update_layout(\n",
    "    width=700,height=400,\n",
    "    margin=dict(l=15,r=25,b=15,t=40,pad=1))\n",
    "fig.show()"
   ]
  },
  {
   "cell_type": "markdown",
   "metadata": {},
   "source": [
    "## Scatterplot Results\n",
    "\n",
    "Unscientific rankings by me, 1 = best, 6 = worst. Ease of use now includes consistency in the grammar making it easier to move from histogram to scatterplot also.\n",
    "\n",
    "\n",
    "|            |features     |beauty    |ease of use   |\n",
    "|------------|-------------|----------|--------|\n",
    "|matplotlib  |    6        |    3     |   6   |\n",
    "|seaborn     |    4        |    5     |   4   |\n",
    "|bokeh       |    1        |    1     |   1   |\n",
    "|altair      |    3        |    2     |   3   |\n",
    "|plotnine    |    2        |    4     |   2   |\n",
    "|plotly      |    5        |    6     |   5   |\n",
    "\n"
   ]
  },
  {
   "cell_type": "code",
   "execution_count": null,
   "metadata": {},
   "outputs": [],
   "source": []
  }
 ],
 "metadata": {
  "celltoolbar": "Slideshow",
  "kernelspec": {
   "display_name": "Python (pyviz)",
   "language": "python",
   "name": "pyviz"
  },
  "language_info": {
   "codemirror_mode": {
    "name": "ipython",
    "version": 3
   },
   "file_extension": ".py",
   "mimetype": "text/x-python",
   "name": "python",
   "nbconvert_exporter": "python",
   "pygments_lexer": "ipython3",
   "version": "3.8.6"
  }
 },
 "nbformat": 4,
 "nbformat_minor": 2
}
