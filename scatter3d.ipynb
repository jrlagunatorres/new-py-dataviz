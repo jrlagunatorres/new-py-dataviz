{
 "cells": [
  {
   "cell_type": "code",
   "execution_count": null,
   "metadata": {
    "slideshow": {
     "slide_type": "skip"
    }
   },
   "outputs": [],
   "source": [
    "%run -i setup.py\n",
    "dataset_sm = dataset.sample(axis = 0, n=10000)"
   ]
  },
  {
   "cell_type": "markdown",
   "metadata": {
    "slideshow": {
     "slide_type": "slide"
    }
   },
   "source": [
    "\n",
    "## 3D Scatterplot Test\n",
    "\n",
    "Trivariate, numeric data, categorical color. Downsampling to make the plots readable.\n",
    "\n",
    "\n",
    "### Matplotlib\n",
    "Not interactive, but you can set the angle it shows."
   ]
  },
  {
   "cell_type": "code",
   "execution_count": null,
   "metadata": {
    "slideshow": {
     "slide_type": "fragment"
    }
   },
   "outputs": [],
   "source": [
    "fig, ax = plt.subplots(figsize=(10, 6))\n",
    "\n",
    "ax = fig.add_subplot(111, projection='3d')\n",
    "ax.scatter(xs=dataset_sm.acousticness, ys=dataset_sm.loudness, zs=dataset_sm.danceability, c=dataset_sm.explicit)\n",
    "\n",
    "ax.set_title('Acousticness x Loudness x Danceability Scatterplot')\n",
    "ax.set_xlabel('Acousticness')\n",
    "ax.set_ylabel('Loudness')\n",
    "ax.set_zlabel('Danceability')\n",
    "\n",
    "plt.show()"
   ]
  },
  {
   "cell_type": "markdown",
   "metadata": {
    "slideshow": {
     "slide_type": "slide"
    }
   },
   "source": [
    "### Seaborn\n",
    "\n",
    "Just matplotlib."
   ]
  },
  {
   "cell_type": "markdown",
   "metadata": {
    "slideshow": {
     "slide_type": "slide"
    }
   },
   "source": [
    "### Bokeh\n",
    "\n",
    "Requires javascript extension."
   ]
  },
  {
   "cell_type": "markdown",
   "metadata": {
    "slideshow": {
     "slide_type": "slide"
    }
   },
   "source": [
    "### Altair\n",
    "\n",
    "No 3d scatter, surface only\n",
    "https://docs.datawatch.com/designer/tutorial/visualization/desktop/1_1DatawatchVisualizations.htm"
   ]
  },
  {
   "cell_type": "markdown",
   "metadata": {
    "slideshow": {
     "slide_type": "slide"
    }
   },
   "source": [
    "### Plotnine\n",
    "\n",
    "Not supported.\n"
   ]
  },
  {
   "cell_type": "markdown",
   "metadata": {
    "slideshow": {
     "slide_type": "slide"
    }
   },
   "source": [
    "### Plotly\n",
    "\n",
    "Setting element visual traits requires passing vectors the same length as data, column names, etc. Can't just pass a constant."
   ]
  },
  {
   "cell_type": "code",
   "execution_count": null,
   "metadata": {
    "slideshow": {
     "slide_type": "subslide"
    }
   },
   "outputs": [],
   "source": [
    "from plotly.graph_objects import layout, XAxis, YAxis\n",
    "\n",
    "x=dataset_sm.acousticness\n",
    "y=dataset_sm.loudness\n",
    "z=dataset_sm.danceability\n",
    "col=dataset_sm.explicit\n",
    "\n",
    "fig = go.Figure(\n",
    "    data=[go.Scatter3d(x=x,y=y,z=z,mode='markers',\n",
    "    marker=dict(size=2, color = np.array(col), colorscale = 'Viridis', opacity=0.8))])\n",
    "\n",
    "fig.update_layout(\n",
    "    title=\"Acousticness x Loudness x Danceability Scatterplot\", \n",
    "    template='plotly_white',\n",
    "    autosize=True,\n",
    "    width=500,\n",
    "    height=500,\n",
    "    scene=layout.Scene(\n",
    "        xaxis=XAxis(title='Acousticness'),\n",
    "        yaxis=YAxis(title='Loudness'),\n",
    "        zaxis=layout.scene.ZAxis(title='Danceability')\n",
    "    ),\n",
    "    margin=dict(l=1,r=1,b=40,t=45,pad=1))\n",
    "fig.show()"
   ]
  },
  {
   "cell_type": "markdown",
   "metadata": {
    "slideshow": {
     "slide_type": "slide"
    }
   },
   "source": [
    "## 3D Scatterplot Results\n",
    "\n",
    "Unscientific rankings by me, 1 = best, 6 = worst. Ease of use now includes consistency in the grammar making it easier to move from histogram to scatterplot also.\n",
    "\n",
    "Plotly has massively more robust features, but it's also somewhat harder to design and lay out the plot.\n",
    "\n"
   ]
  },
  {
   "cell_type": "code",
   "execution_count": null,
   "metadata": {},
   "outputs": [],
   "source": []
  }
 ],
 "metadata": {
  "celltoolbar": "Slideshow",
  "kernelspec": {
   "display_name": "Python (pyviz)",
   "language": "python",
   "name": "pyviz"
  },
  "language_info": {
   "codemirror_mode": {
    "name": "ipython",
    "version": 3
   },
   "file_extension": ".py",
   "mimetype": "text/x-python",
   "name": "python",
   "nbconvert_exporter": "python",
   "pygments_lexer": "ipython3",
   "version": "3.8.6"
  }
 },
 "nbformat": 4,
 "nbformat_minor": 2
}
